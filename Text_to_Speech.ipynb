{
 "cells": [
  {
   "cell_type": "code",
   "execution_count": 7,
   "id": "c34dd9f2",
   "metadata": {},
   "outputs": [],
   "source": [
    "from gtts import gTTS\n",
    "import os"
   ]
  },
  {
   "cell_type": "code",
   "execution_count": 8,
   "id": "945bdf44",
   "metadata": {},
   "outputs": [],
   "source": [
    "\n",
    "# The text you want to convert to speech\n",
    "text = \"Hello, this is a sample text.\"\n"
   ]
  },
  {
   "cell_type": "code",
   "execution_count": 9,
   "id": "a6182e44",
   "metadata": {},
   "outputs": [],
   "source": [
    "tts = gTTS(text)"
   ]
  },
  {
   "cell_type": "code",
   "execution_count": 10,
   "id": "c39155f3",
   "metadata": {},
   "outputs": [],
   "source": [
    "# Save the converted audio to a file\n",
    "tts.save(\"output.mp3\")\n"
   ]
  },
  {
   "cell_type": "code",
   "execution_count": 11,
   "id": "d0e0d3ee",
   "metadata": {},
   "outputs": [
    {
     "data": {
      "text/plain": [
       "0"
      ]
     },
     "execution_count": 11,
     "metadata": {},
     "output_type": "execute_result"
    }
   ],
   "source": [
    "# Play the audio file using a system command\n",
    "os.system(\"output.mp3\")\n"
   ]
  },
  {
   "cell_type": "code",
   "execution_count": null,
   "id": "5b75fc82",
   "metadata": {},
   "outputs": [],
   "source": []
  }
 ],
 "metadata": {
  "kernelspec": {
   "display_name": "nlp_env",
   "language": "python",
   "name": "nlp_env"
  },
  "language_info": {
   "codemirror_mode": {
    "name": "ipython",
    "version": 3
   },
   "file_extension": ".py",
   "mimetype": "text/x-python",
   "name": "python",
   "nbconvert_exporter": "python",
   "pygments_lexer": "ipython3",
   "version": "3.11.4"
  }
 },
 "nbformat": 4,
 "nbformat_minor": 5
}
